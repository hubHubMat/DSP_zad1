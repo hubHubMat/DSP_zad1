import numpy as np
import matplotlib.pyplot as plt
from numpy.linalg import inv
from numpy.fft import fft, ifft


#wariant 8: mathbf{x}_\mu = [6, 2, 4, 4, 4,5,0, 0, 0, 0]


X_mu = np.array([6, 2, 4, 4, 4, 5, 0, 0, 0, 0], dtype=complex)


def idft_matrix(N):
    k = np.arange(N).reshape((N, 1))
    n = np.arange(N).reshape((1, N))
    W = np.exp(-2j * np.pi * k * n / N)  # DFT matrix
    return W


def synthesize_signal(X, N):
    W = idft_matrix(N)  # DFT matrix
    W_conj = np.conj(W)  # Conjugate of W
    x = (1/N) * W_conj @ X[:N]  # IDFT formula
    return x, W


N_values = [4, 6, 8, 10]


plt.figure(figsize=(12, 8))
for i, N in enumerate(N_values):
    x, W = synthesize_signal(X_mu, N)
    plt.subplot(2, 2, i+1)
    plt.stem(np.real(x), basefmt=" ")
    plt.title(f"Synthesized Signal for N = {N}")
    plt.xlabel("n")
    plt.ylabel("x[n]")
    plt.grid(True)

plt.tight_layout()
plt.show()



